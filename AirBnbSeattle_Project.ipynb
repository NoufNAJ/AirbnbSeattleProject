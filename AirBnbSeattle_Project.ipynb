{
 "cells": [
  {
   "cell_type": "code",
   "execution_count": 3,
   "id": "3b962553-8138-4355-abf9-76993cb37b0d",
   "metadata": {},
   "outputs": [],
   "source": [
    "import numpy as np \n",
    "import pandas as pd \n",
    "import matplotlib.pyplot as plt\n",
    "import seaborn as sns\n",
    "import warnings\n",
    "from sklearn.linear_model import LogisticRegression\n",
    "warnings.filterwarnings('ignore', category=UserWarning)\n",
    "warnings.simplefilter(action='ignore', category=FutureWarning)"
   ]
  },
  {
   "cell_type": "code",
   "execution_count": 4,
   "id": "08af9fe3-f902-493d-8b08-c049937c3421",
   "metadata": {},
   "outputs": [],
   "source": [
    "# Load listings and calendar datasets\n",
    "listings_df = pd.read_csv(\"listings_seattle.csv\")\n",
    "calendar_df = pd.read_csv(\"calendar_seattle.csv\")"
   ]
  },
  {
   "cell_type": "markdown",
   "id": "4acbfe15-b580-4db4-921d-3e85c1cc8a44",
   "metadata": {
    "jp-MarkdownHeadingCollapsed": true
   },
   "source": [
    "## Question 1: What are the busiest times of the year in Seattle for Airbnb bookings?"
   ]
  },
  {
   "cell_type": "code",
   "execution_count": 5,
   "id": "12b69657-ef70-4cfa-80d5-1f51e5056b3e",
   "metadata": {},
   "outputs": [
    {
     "data": {
      "text/html": [
       "<div>\n",
       "<style scoped>\n",
       "    .dataframe tbody tr th:only-of-type {\n",
       "        vertical-align: middle;\n",
       "    }\n",
       "\n",
       "    .dataframe tbody tr th {\n",
       "        vertical-align: top;\n",
       "    }\n",
       "\n",
       "    .dataframe thead th {\n",
       "        text-align: right;\n",
       "    }\n",
       "</style>\n",
       "<table border=\"1\" class=\"dataframe\">\n",
       "  <thead>\n",
       "    <tr style=\"text-align: right;\">\n",
       "      <th></th>\n",
       "      <th>listing_id</th>\n",
       "      <th>date</th>\n",
       "      <th>available</th>\n",
       "      <th>price</th>\n",
       "    </tr>\n",
       "  </thead>\n",
       "  <tbody>\n",
       "    <tr>\n",
       "      <th>0</th>\n",
       "      <td>241032</td>\n",
       "      <td>2016-01-04</td>\n",
       "      <td>t</td>\n",
       "      <td>$85.00</td>\n",
       "    </tr>\n",
       "    <tr>\n",
       "      <th>1</th>\n",
       "      <td>241032</td>\n",
       "      <td>2016-01-05</td>\n",
       "      <td>t</td>\n",
       "      <td>$85.00</td>\n",
       "    </tr>\n",
       "    <tr>\n",
       "      <th>2</th>\n",
       "      <td>241032</td>\n",
       "      <td>2016-01-06</td>\n",
       "      <td>f</td>\n",
       "      <td>NaN</td>\n",
       "    </tr>\n",
       "    <tr>\n",
       "      <th>3</th>\n",
       "      <td>241032</td>\n",
       "      <td>2016-01-07</td>\n",
       "      <td>f</td>\n",
       "      <td>NaN</td>\n",
       "    </tr>\n",
       "    <tr>\n",
       "      <th>4</th>\n",
       "      <td>241032</td>\n",
       "      <td>2016-01-08</td>\n",
       "      <td>f</td>\n",
       "      <td>NaN</td>\n",
       "    </tr>\n",
       "  </tbody>\n",
       "</table>\n",
       "</div>"
      ],
      "text/plain": [
       "   listing_id        date available   price\n",
       "0      241032  2016-01-04         t  $85.00\n",
       "1      241032  2016-01-05         t  $85.00\n",
       "2      241032  2016-01-06         f     NaN\n",
       "3      241032  2016-01-07         f     NaN\n",
       "4      241032  2016-01-08         f     NaN"
      ]
     },
     "execution_count": 5,
     "metadata": {},
     "output_type": "execute_result"
    }
   ],
   "source": [
    "# Display the first few rows of the dataframe\n",
    "calendar_df.head()"
   ]
  },
  {
   "cell_type": "code",
   "execution_count": 6,
   "id": "ab3f0b9b-5376-422d-b730-ab5c548be1eb",
   "metadata": {},
   "outputs": [
    {
     "data": {
      "text/plain": [
       "listing_id         0\n",
       "date               0\n",
       "available          0\n",
       "price         459028\n",
       "dtype: int64"
      ]
     },
     "execution_count": 6,
     "metadata": {},
     "output_type": "execute_result"
    }
   ],
   "source": [
    "# Check for missing values\n",
    "calendar_df.isnull().sum()"
   ]
  },
  {
   "cell_type": "code",
   "execution_count": 7,
   "id": "639339dd-fd00-46d8-85d2-fca4a3aafc29",
   "metadata": {},
   "outputs": [
    {
     "data": {
      "text/plain": [
       "listing_id     int64\n",
       "date          object\n",
       "available     object\n",
       "price         object\n",
       "dtype: object"
      ]
     },
     "execution_count": 7,
     "metadata": {},
     "output_type": "execute_result"
    }
   ],
   "source": [
    "# Check the type of the columns\n",
    "calendar_df.dtypes"
   ]
  },
  {
   "cell_type": "code",
   "execution_count": 8,
   "id": "5a0edc3b-8080-4229-acf8-1ce6a208a822",
   "metadata": {},
   "outputs": [],
   "source": [
    "# Data Cleaning and Preprocessing\n",
    "# Convert 'date' column to datetime format\n",
    "calendar_df['date'] = pd.to_datetime(calendar_df['date'])\n",
    "\n",
    "# Convert 'price' column to numeric after removing the $ sign and commas\n",
    "calendar_df['price'] = calendar_df['price'].replace({'\\$': '', ',': ''}, regex=True).astype(float)\n",
    "\n",
    "# Fill missing values in 'price' column with the median price\n",
    "median_price = calendar_df['price'].median()\n",
    "calendar_df['price'].fillna(median_price, inplace=True)\n",
    "\n",
    "# Convert 'available' column to numeric format\n",
    "calendar_df['available'] = calendar_df['available'].map({'t': 1, 'f': 0})\n",
    "\n",
    "# Extract month from the 'date' column\n",
    "calendar_df['month'] = calendar_df['date'].dt.month\n",
    "\n",
    "# Calculate the average occupancy rate and pricing for each month\n",
    "monthly_stats = calendar_df.groupby('month').agg({'available': 'mean', 'price': 'mean'}).reset_index()"
   ]
  },
  {
   "cell_type": "code",
   "execution_count": 9,
   "id": "21c46a4c-8653-4ad7-9ed0-dcaa34507094",
   "metadata": {},
   "outputs": [
    {
     "data": {
      "text/plain": [
       "listing_id    0\n",
       "date          0\n",
       "available     0\n",
       "price         0\n",
       "month         0\n",
       "dtype: int64"
      ]
     },
     "execution_count": 9,
     "metadata": {},
     "output_type": "execute_result"
    }
   ],
   "source": [
    "# Check for missing values after filling\n",
    "calendar_df.isnull().sum()"
   ]
  },
  {
   "cell_type": "code",
   "execution_count": 10,
   "id": "7b08ba8d-5201-4299-abac-a0a430befe99",
   "metadata": {},
   "outputs": [
    {
     "data": {
      "text/html": [
       "<div>\n",
       "<style scoped>\n",
       "    .dataframe tbody tr th:only-of-type {\n",
       "        vertical-align: middle;\n",
       "    }\n",
       "\n",
       "    .dataframe tbody tr th {\n",
       "        vertical-align: top;\n",
       "    }\n",
       "\n",
       "    .dataframe thead th {\n",
       "        text-align: right;\n",
       "    }\n",
       "</style>\n",
       "<table border=\"1\" class=\"dataframe\">\n",
       "  <thead>\n",
       "    <tr style=\"text-align: right;\">\n",
       "      <th></th>\n",
       "      <th>month</th>\n",
       "      <th>available</th>\n",
       "      <th>price</th>\n",
       "    </tr>\n",
       "  </thead>\n",
       "  <tbody>\n",
       "    <tr>\n",
       "      <th>0</th>\n",
       "      <td>1</td>\n",
       "      <td>0.566937</td>\n",
       "      <td>116.887332</td>\n",
       "    </tr>\n",
       "    <tr>\n",
       "      <th>1</th>\n",
       "      <td>2</td>\n",
       "      <td>0.662208</td>\n",
       "      <td>119.127761</td>\n",
       "    </tr>\n",
       "    <tr>\n",
       "      <th>2</th>\n",
       "      <td>3</td>\n",
       "      <td>0.709187</td>\n",
       "      <td>122.931623</td>\n",
       "    </tr>\n",
       "    <tr>\n",
       "      <th>3</th>\n",
       "      <td>4</td>\n",
       "      <td>0.663847</td>\n",
       "      <td>126.324411</td>\n",
       "    </tr>\n",
       "    <tr>\n",
       "      <th>4</th>\n",
       "      <td>5</td>\n",
       "      <td>0.675670</td>\n",
       "      <td>129.633747</td>\n",
       "    </tr>\n",
       "    <tr>\n",
       "      <th>5</th>\n",
       "      <td>6</td>\n",
       "      <td>0.674384</td>\n",
       "      <td>134.945687</td>\n",
       "    </tr>\n",
       "    <tr>\n",
       "      <th>6</th>\n",
       "      <td>7</td>\n",
       "      <td>0.627097</td>\n",
       "      <td>136.024232</td>\n",
       "    </tr>\n",
       "    <tr>\n",
       "      <th>7</th>\n",
       "      <td>8</td>\n",
       "      <td>0.645051</td>\n",
       "      <td>135.870647</td>\n",
       "    </tr>\n",
       "    <tr>\n",
       "      <th>8</th>\n",
       "      <td>9</td>\n",
       "      <td>0.674402</td>\n",
       "      <td>132.102279</td>\n",
       "    </tr>\n",
       "    <tr>\n",
       "      <th>9</th>\n",
       "      <td>10</td>\n",
       "      <td>0.696514</td>\n",
       "      <td>128.524637</td>\n",
       "    </tr>\n",
       "    <tr>\n",
       "      <th>10</th>\n",
       "      <td>11</td>\n",
       "      <td>0.713986</td>\n",
       "      <td>128.055395</td>\n",
       "    </tr>\n",
       "    <tr>\n",
       "      <th>11</th>\n",
       "      <td>12</td>\n",
       "      <td>0.735573</td>\n",
       "      <td>129.781299</td>\n",
       "    </tr>\n",
       "  </tbody>\n",
       "</table>\n",
       "</div>"
      ],
      "text/plain": [
       "    month  available       price\n",
       "0       1   0.566937  116.887332\n",
       "1       2   0.662208  119.127761\n",
       "2       3   0.709187  122.931623\n",
       "3       4   0.663847  126.324411\n",
       "4       5   0.675670  129.633747\n",
       "5       6   0.674384  134.945687\n",
       "6       7   0.627097  136.024232\n",
       "7       8   0.645051  135.870647\n",
       "8       9   0.674402  132.102279\n",
       "9      10   0.696514  128.524637\n",
       "10     11   0.713986  128.055395\n",
       "11     12   0.735573  129.781299"
      ]
     },
     "execution_count": 10,
     "metadata": {},
     "output_type": "execute_result"
    }
   ],
   "source": [
    "# Display the monthly statistics\n",
    "monthly_stats"
   ]
  },
  {
   "cell_type": "code",
   "execution_count": 11,
   "id": "421f9fc6-cf1d-4a46-9911-880496422aab",
   "metadata": {},
   "outputs": [
    {
     "data": {
      "image/png": "[encoded data removed]",
      "text/plain": [
       "<Figure size 1000x600 with 2 Axes>"
      ]
     },
     "metadata": {},
     "output_type": "display_data"
    }
   ],
   "source": [
    "# Plotting\n",
    "plt.figure(figsize=(10, 6))\n",
    "\n",
    "# Plot average occupancy rate\n",
    "plt.subplot(2, 1, 1)\n",
    "plt.plot(monthly_stats['month'], monthly_stats['available'], marker='o')\n",
    "plt.title('Average Occupancy Rate by Month')\n",
    "plt.xlabel('Month')\n",
    "plt.ylabel('Average Occupancy Rate')\n",
    "\n",
    "# Plot average price\n",
    "plt.subplot(2, 1, 2)\n",
    "plt.plot(monthly_stats['month'], monthly_stats['price'], marker='o')\n",
    "plt.title('Average Price by Month')\n",
    "plt.xlabel('Month')\n",
    "plt.ylabel('Average Price')\n",
    "\n",
    "# Show plots\n",
    "plt.tight_layout()\n",
    "plt.show()"
   ]
  },
  {
   "cell_type": "markdown",
   "id": "a03c2261-41c4-45c1-b5a3-b60b12383a2c",
   "metadata": {
    "jp-MarkdownHeadingCollapsed": true
   },
   "source": [
    "## Question 2: What is the impact of property type and room type on the pricing of Airbnb in Seattle?"
   ]
  },
  {
   "cell_type": "code",
   "execution_count": 12,
   "id": "455deb0a-6b96-442f-9c05-4dcace07341b",
   "metadata": {},
   "outputs": [
    {
     "data": {
      "text/html": [
       "<div>\n",
       "<style scoped>\n",
       "    .dataframe tbody tr th:only-of-type {\n",
       "        vertical-align: middle;\n",
       "    }\n",
       "\n",
       "    .dataframe tbody tr th {\n",
       "        vertical-align: top;\n",
       "    }\n",
       "\n",
       "    .dataframe thead th {\n",
       "        text-align: right;\n",
       "    }\n",
       "</style>\n",
       "<table border=\"1\" class=\"dataframe\">\n",
       "  <thead>\n",
       "    <tr style=\"text-align: right;\">\n",
       "      <th></th>\n",
       "      <th>id</th>\n",
       "      <th>listing_url</th>\n",
       "      <th>scrape_id</th>\n",
       "      <th>last_scraped</th>\n",
       "      <th>name</th>\n",
       "      <th>summary</th>\n",
       "      <th>space</th>\n",
       "      <th>description</th>\n",
       "      <th>experiences_offered</th>\n",
       "      <th>neighborhood_overview</th>\n",
       "      <th>...</th>\n",
       "      <th>review_scores_value</th>\n",
       "      <th>requires_license</th>\n",
       "      <th>license</th>\n",
       "      <th>jurisdiction_names</th>\n",
       "      <th>instant_bookable</th>\n",
       "      <th>cancellation_policy</th>\n",
       "      <th>require_guest_profile_picture</th>\n",
       "      <th>require_guest_phone_verification</th>\n",
       "      <th>calculated_host_listings_count</th>\n",
       "      <th>reviews_per_month</th>\n",
       "    </tr>\n",
       "  </thead>\n",
       "  <tbody>\n",
       "    <tr>\n",
       "      <th>0</th>\n",
       "      <td>241032</td>\n",
       "      <td>https://www.airbnb.com/rooms/241032</td>\n",
       "      <td>20160104002432</td>\n",
       "      <td>2016-01-04</td>\n",
       "      <td>Stylish Queen Anne Apartment</td>\n",
       "      <td>NaN</td>\n",
       "      <td>Make your self at home in this charming one-be...</td>\n",
       "      <td>Make your self at home in this charming one-be...</td>\n",
       "      <td>none</td>\n",
       "      <td>NaN</td>\n",
       "      <td>...</td>\n",
       "      <td>10.0</td>\n",
       "      <td>f</td>\n",
       "      <td>NaN</td>\n",
       "      <td>WASHINGTON</td>\n",
       "      <td>f</td>\n",
       "      <td>moderate</td>\n",
       "      <td>f</td>\n",
       "      <td>f</td>\n",
       "      <td>2</td>\n",
       "      <td>4.07</td>\n",
       "    </tr>\n",
       "    <tr>\n",
       "      <th>1</th>\n",
       "      <td>953595</td>\n",
       "      <td>https://www.airbnb.com/rooms/953595</td>\n",
       "      <td>20160104002432</td>\n",
       "      <td>2016-01-04</td>\n",
       "      <td>Bright &amp; Airy Queen Anne Apartment</td>\n",
       "      <td>Chemically sensitive? We've removed the irrita...</td>\n",
       "      <td>Beautiful, hypoallergenic apartment in an extr...</td>\n",
       "      <td>Chemically sensitive? We've removed the irrita...</td>\n",
       "      <td>none</td>\n",
       "      <td>Queen Anne is a wonderful, truly functional vi...</td>\n",
       "      <td>...</td>\n",
       "      <td>10.0</td>\n",
       "      <td>f</td>\n",
       "      <td>NaN</td>\n",
       "      <td>WASHINGTON</td>\n",
       "      <td>f</td>\n",
       "      <td>strict</td>\n",
       "      <td>t</td>\n",
       "      <td>t</td>\n",
       "      <td>6</td>\n",
       "      <td>1.48</td>\n",
       "    </tr>\n",
       "    <tr>\n",
       "      <th>2</th>\n",
       "      <td>3308979</td>\n",
       "      <td>https://www.airbnb.com/rooms/3308979</td>\n",
       "      <td>20160104002432</td>\n",
       "      <td>2016-01-04</td>\n",
       "      <td>New Modern House-Amazing water view</td>\n",
       "      <td>New modern house built in 2013.  Spectacular s...</td>\n",
       "      <td>Our house is modern, light and fresh with a wa...</td>\n",
       "      <td>New modern house built in 2013.  Spectacular s...</td>\n",
       "      <td>none</td>\n",
       "      <td>Upper Queen Anne is a charming neighborhood fu...</td>\n",
       "      <td>...</td>\n",
       "      <td>10.0</td>\n",
       "      <td>f</td>\n",
       "      <td>NaN</td>\n",
       "      <td>WASHINGTON</td>\n",
       "      <td>f</td>\n",
       "      <td>strict</td>\n",
       "      <td>f</td>\n",
       "      <td>f</td>\n",
       "      <td>2</td>\n",
       "      <td>1.15</td>\n",
       "    </tr>\n",
       "    <tr>\n",
       "      <th>3</th>\n",
       "      <td>7421966</td>\n",
       "      <td>https://www.airbnb.com/rooms/7421966</td>\n",
       "      <td>20160104002432</td>\n",
       "      <td>2016-01-04</td>\n",
       "      <td>Queen Anne Chateau</td>\n",
       "      <td>A charming apartment that sits atop Queen Anne...</td>\n",
       "      <td>NaN</td>\n",
       "      <td>A charming apartment that sits atop Queen Anne...</td>\n",
       "      <td>none</td>\n",
       "      <td>NaN</td>\n",
       "      <td>...</td>\n",
       "      <td>NaN</td>\n",
       "      <td>f</td>\n",
       "      <td>NaN</td>\n",
       "      <td>WASHINGTON</td>\n",
       "      <td>f</td>\n",
       "      <td>flexible</td>\n",
       "      <td>f</td>\n",
       "      <td>f</td>\n",
       "      <td>1</td>\n",
       "      <td>NaN</td>\n",
       "    </tr>\n",
       "    <tr>\n",
       "      <th>4</th>\n",
       "      <td>278830</td>\n",
       "      <td>https://www.airbnb.com/rooms/278830</td>\n",
       "      <td>20160104002432</td>\n",
       "      <td>2016-01-04</td>\n",
       "      <td>Charming craftsman 3 bdm house</td>\n",
       "      <td>Cozy family craftman house in beautiful neighb...</td>\n",
       "      <td>Cozy family craftman house in beautiful neighb...</td>\n",
       "      <td>Cozy family craftman house in beautiful neighb...</td>\n",
       "      <td>none</td>\n",
       "      <td>We are in the beautiful neighborhood of Queen ...</td>\n",
       "      <td>...</td>\n",
       "      <td>9.0</td>\n",
       "      <td>f</td>\n",
       "      <td>NaN</td>\n",
       "      <td>WASHINGTON</td>\n",
       "      <td>f</td>\n",
       "      <td>strict</td>\n",
       "      <td>f</td>\n",
       "      <td>f</td>\n",
       "      <td>1</td>\n",
       "      <td>0.89</td>\n",
       "    </tr>\n",
       "  </tbody>\n",
       "</table>\n",
       "<p>5 rows × 92 columns</p>\n",
       "</div>"
      ],
      "text/plain": [
       "        id                           listing_url       scrape_id last_scraped  \\\n",
       "0   241032   https://www.airbnb.com/rooms/241032  20160104002432   2016-01-04   \n",
       "1   953595   https://www.airbnb.com/rooms/953595  20160104002432   2016-01-04   \n",
       "2  3308979  https://www.airbnb.com/rooms/3308979  20160104002432   2016-01-04   \n",
       "3  7421966  https://www.airbnb.com/rooms/7421966  20160104002432   2016-01-04   \n",
       "4   278830   https://www.airbnb.com/rooms/278830  20160104002432   2016-01-04   \n",
       "\n",
       "                                  name  \\\n",
       "0         Stylish Queen Anne Apartment   \n",
       "1   Bright & Airy Queen Anne Apartment   \n",
       "2  New Modern House-Amazing water view   \n",
       "3                   Queen Anne Chateau   \n",
       "4       Charming craftsman 3 bdm house   \n",
       "\n",
       "                                             summary  \\\n",
       "0                                                NaN   \n",
       "1  Chemically sensitive? We've removed the irrita...   \n",
       "2  New modern house built in 2013.  Spectacular s...   \n",
       "3  A charming apartment that sits atop Queen Anne...   \n",
       "4  Cozy family craftman house in beautiful neighb...   \n",
       "\n",
       "                                               space  \\\n",
       "0  Make your self at home in this charming one-be...   \n",
       "1  Beautiful, hypoallergenic apartment in an extr...   \n",
       "2  Our house is modern, light and fresh with a wa...   \n",
       "3                                                NaN   \n",
       "4  Cozy family craftman house in beautiful neighb...   \n",
       "\n",
       "                                         description experiences_offered  \\\n",
       "0  Make your self at home in this charming one-be...                none   \n",
       "1  Chemically sensitive? We've removed the irrita...                none   \n",
       "2  New modern house built in 2013.  Spectacular s...                none   \n",
       "3  A charming apartment that sits atop Queen Anne...                none   \n",
       "4  Cozy family craftman house in beautiful neighb...                none   \n",
       "\n",
       "                               neighborhood_overview  ... review_scores_value  \\\n",
       "0                                                NaN  ...                10.0   \n",
       "1  Queen Anne is a wonderful, truly functional vi...  ...                10.0   \n",
       "2  Upper Queen Anne is a charming neighborhood fu...  ...                10.0   \n",
       "3                                                NaN  ...                 NaN   \n",
       "4  We are in the beautiful neighborhood of Queen ...  ...                 9.0   \n",
       "\n",
       "  requires_license license jurisdiction_names instant_bookable  \\\n",
       "0                f     NaN         WASHINGTON                f   \n",
       "1                f     NaN         WASHINGTON                f   \n",
       "2                f     NaN         WASHINGTON                f   \n",
       "3                f     NaN         WASHINGTON                f   \n",
       "4                f     NaN         WASHINGTON                f   \n",
       "\n",
       "  cancellation_policy  require_guest_profile_picture  \\\n",
       "0            moderate                              f   \n",
       "1              strict                              t   \n",
       "2              strict                              f   \n",
       "3            flexible                              f   \n",
       "4              strict                              f   \n",
       "\n",
       "  require_guest_phone_verification calculated_host_listings_count  \\\n",
       "0                                f                              2   \n",
       "1                                t                              6   \n",
       "2                                f                              2   \n",
       "3                                f                              1   \n",
       "4                                f                              1   \n",
       "\n",
       "  reviews_per_month  \n",
       "0              4.07  \n",
       "1              1.48  \n",
       "2              1.15  \n",
       "3               NaN  \n",
       "4              0.89  \n",
       "\n",
       "[5 rows x 92 columns]"
      ]
     },
     "execution_count": 12,
     "metadata": {},
     "output_type": "execute_result"
    }
   ],
   "source": [
    "# Display the first few rows of the dataframe\n",
    "listings_df.head()"
   ]
  },
  {
   "cell_type": "code",
   "execution_count": 13,
   "id": "c54c795e-4191-4d99-997b-c5f67be35c6b",
   "metadata": {},
   "outputs": [
    {
     "data": {
      "text/plain": [
       "id                                    0\n",
       "listing_url                           0\n",
       "scrape_id                             0\n",
       "last_scraped                          0\n",
       "name                                  0\n",
       "                                   ... \n",
       "cancellation_policy                   0\n",
       "require_guest_profile_picture         0\n",
       "require_guest_phone_verification      0\n",
       "calculated_host_listings_count        0\n",
       "reviews_per_month                   627\n",
       "Length: 92, dtype: int64"
      ]
     },
     "execution_count": 13,
     "metadata": {},
     "output_type": "execute_result"
    }
   ],
   "source": [
    "# Check for missing values\n",
    "listings_df.isnull().sum()"
   ]
  },
  {
   "cell_type": "code",
   "execution_count": 14,
   "id": "b0ed7c01-246c-4a30-84cf-c1d221df7d6f",
   "metadata": {},
   "outputs": [
    {
     "data": {
      "text/plain": [
       "id                                    int64\n",
       "listing_url                          object\n",
       "scrape_id                             int64\n",
       "last_scraped                         object\n",
       "name                                 object\n",
       "                                     ...   \n",
       "cancellation_policy                  object\n",
       "require_guest_profile_picture        object\n",
       "require_guest_phone_verification     object\n",
       "calculated_host_listings_count        int64\n",
       "reviews_per_month                   float64\n",
       "Length: 92, dtype: object"
      ]
     },
     "execution_count": 14,
     "metadata": {},
     "output_type": "execute_result"
    }
   ],
   "source": [
    "# Check data types of all columns\n",
    "listings_df.dtypes"
   ]
  },
  {
   "cell_type": "code",
   "execution_count": 15,
   "id": "25a0283c-533c-435a-a6da-7b1f1adb91b8",
   "metadata": {},
   "outputs": [],
   "source": [
    "# Data Cleaning and Preprocessing\n",
    "\n",
    "# # Convert 'price' column to numeric after removing the $ sign and commas\n",
    "# listings_df11111['price'] = listings_df1['price'].replace({'\\$': '', ',': ''}, regex=True)\n",
    "# # Identify and handle non-numeric values in 'price' column\n",
    "# non_numeric_prices = listings_df1[~listings_df1['price'].str.replace('.','',1).str.isnumeric()]['price']\n",
    "# Convert the problematic values to NaN\n",
    "# listings_df1['price'] = pd.to_numeric(listings_df1['price'], errors='coerce')\n",
    "\n",
    "# Drop columns with too many missing values or not relevant to price analysis\n",
    "listings_df1 = listings_df.drop(columns=['id', 'listing_url','host_since', 'scrape_id', 'last_scraped', 'name', \n",
    "                                        'summary', 'space', 'description', 'experiences_offered', \n",
    "                                        'neighborhood_overview', 'notes', 'transit', 'thumbnail_url', \n",
    "                                        'medium_url', 'picture_url', 'xl_picture_url', 'host_id', \n",
    "                                        'host_url', 'host_name', 'host_location', 'host_about', \n",
    "                                        'host_thumbnail_url', 'host_picture_url', 'host_neighbourhood', \n",
    "                                        'host_total_listings_count', 'host_verifications', \n",
    "                                        'host_has_profile_pic', 'host_identity_verified', 'street', \n",
    "                                        'neighbourhood', 'neighbourhood_cleansed', 'city', 'state', \n",
    "                                        'zipcode', 'market', 'smart_location', 'country_code', 'country', \n",
    "                                        'is_location_exact', 'calendar_last_scraped', 'requires_license', \n",
    "                                        'license', 'jurisdiction_names', 'reviews_per_month'])\n",
    "\n",
    "\n",
    "# Convert 'price' column to numeric after removing the $ sign and commas\n",
    "listings_df1['price'] = listings_df1['price'].replace({'\\$': '', ',': ''}, regex=True).astype(float)\n",
    "\n",
    "\n",
    "# # Convert 'host_since' column to datetime data type\n",
    "# listings_df1['host_since'] = pd.to_datetime(listings_df1['host_since'])\n",
    "\n",
    "# Fill missing values in 'price' column with the median price\n",
    "median_price = listings_df1['price'].median()\n",
    "listings_df1['price'].fillna(median_price, inplace=True)\n",
    "\n",
    "listings_df1['price'] = pd.to_numeric(listings_df1['price'], errors='coerce')\n",
    "\n",
    "# Fill missing values in 'review_scores_rating' with the median rating\n",
    "median_rating = listings_df1['review_scores_rating'].median()\n",
    "listings_df1['review_scores_rating'].fillna(median_rating, inplace=True)\n",
    "\n",
    "# Columns to fill missing values with the median\n",
    "columns_to_fill = ['bathrooms', 'bedrooms', 'beds', 'review_scores_accuracy', 'review_scores_cleanliness', \n",
    "                    'review_scores_checkin', 'review_scores_communication', \n",
    "                    'review_scores_location', 'review_scores_value', 'review_scores_rating']\n",
    "\n",
    "\n",
    "\n",
    "# Fill missing values with median for each column\n",
    "for column in columns_to_fill:\n",
    "    listings_df1[column].fillna(listings_df1[column].median(), inplace=True)\n",
    "\n",
    "# Fill missing values in 'host_response_time' and 'host_response_rate' with mode and median respectively\n",
    "mode_response_time = listings_df1['host_response_time'].mode()[0]\n",
    "median_response_rate = listings_df1['host_response_rate'].replace({'%': ''}, regex=True).astype(float).median()\n",
    "\n",
    "listings_df1['host_response_time'].fillna(mode_response_time, inplace=True)\n",
    "listings_df1['host_response_rate'].fillna(median_response_rate, inplace=True)\n",
    "\n",
    "# Fill missing values in first_review and last_review with a value indicating no reviews available\n",
    "listings_df1['first_review'].fillna('No reviews available', inplace=True)\n",
    "listings_df1['last_review'].fillna('No reviews available', inplace=True)\n",
    "\n",
    "listings_df1['weekly_price'].fillna(0, inplace=True)\n",
    "listings_df1['monthly_price'].fillna(0, inplace=True)\n",
    "listings_df1['host_listings_count'].fillna(0, inplace=True)\n",
    "listings_df1['security_deposit'].fillna(0, inplace=True)\n",
    "listings_df1['cleaning_fee'].fillna(0, inplace=True)\n",
    "\n",
    "# Fill missing value in property_type with mode\n",
    "mode_property_type = listings_df['property_type'].mode()[0]\n",
    "listings_df1['property_type'].fillna(mode_property_type, inplace=True)\n",
    "\n",
    "# Fill missing values in square_feet with 0 or a value indicating not available\n",
    "listings_df1['square_feet'].fillna(0, inplace=True)\n",
    "\n",
    "# Fill missing values in host_acceptance_rate with a new category indicating missing values\n",
    "listings_df1['host_acceptance_rate'].fillna('Not provided', inplace=True)\n",
    "\n",
    "# Fill missing values in host_is_superhost with mode\n",
    "mode_superhost = listings_df1['host_is_superhost'].mode()[0]\n",
    "listings_df1['host_is_superhost'].fillna(mode_superhost, inplace=True)"
   ]
  },
  {
   "cell_type": "code",
   "execution_count": 16,
   "id": "91df423b-08ed-46d5-aa5f-531afde32181",
   "metadata": {},
   "outputs": [],
   "source": [
    "# df = df.applymap(lambda x: np.nan if isinstance(x, str) and x.strip() in ['NaN', 'nan', 'None', '', '-', 'N/A'] else x)\n",
    "# df"
   ]
  },
  {
   "cell_type": "code",
   "execution_count": 17,
   "id": "664311b0-bec6-4d94-abda-57e9cc54a934",
   "metadata": {},
   "outputs": [
    {
     "name": "stdout",
     "output_type": "stream",
     "text": [
      "host_response_time                  0\n",
      "host_response_rate                  0\n",
      "host_acceptance_rate                0\n",
      "host_is_superhost                   0\n",
      "host_listings_count                 0\n",
      "neighbourhood_group_cleansed        0\n",
      "latitude                            0\n",
      "longitude                           0\n",
      "property_type                       0\n",
      "room_type                           0\n",
      "accommodates                        0\n",
      "bathrooms                           0\n",
      "bedrooms                            0\n",
      "beds                                0\n",
      "bed_type                            0\n",
      "amenities                           0\n",
      "square_feet                         0\n",
      "price                               0\n",
      "weekly_price                        0\n",
      "monthly_price                       0\n",
      "security_deposit                    0\n",
      "cleaning_fee                        0\n",
      "guests_included                     0\n",
      "extra_people                        0\n",
      "minimum_nights                      0\n",
      "maximum_nights                      0\n",
      "calendar_updated                    0\n",
      "has_availability                    0\n",
      "availability_30                     0\n",
      "availability_60                     0\n",
      "availability_90                     0\n",
      "availability_365                    0\n",
      "number_of_reviews                   0\n",
      "first_review                        0\n",
      "last_review                         0\n",
      "review_scores_rating                0\n",
      "review_scores_accuracy              0\n",
      "review_scores_cleanliness           0\n",
      "review_scores_checkin               0\n",
      "review_scores_communication         0\n",
      "review_scores_location              0\n",
      "review_scores_value                 0\n",
      "instant_bookable                    0\n",
      "cancellation_policy                 0\n",
      "require_guest_profile_picture       0\n",
      "require_guest_phone_verification    0\n",
      "calculated_host_listings_count      0\n",
      "dtype: int64\n"
     ]
    }
   ],
   "source": [
    "# check nulls after Pre-processing\n",
    "print(listings_df1.isnull().sum())"
   ]
  },
  {
   "cell_type": "code",
   "execution_count": 19,
   "id": "f32ca7fb-cc35-4d38-9ad3-301d00fc01ee",
   "metadata": {},
   "outputs": [
    {
     "data": {
      "image/png": "[encoded data removed]",
      "text/plain": [
       "<Figure size 800x600 with 1 Axes>"
      ]
     },
     "metadata": {},
     "output_type": "display_data"
    }
   ],
   "source": [
    "# Box plot of price by room type\n",
    "plt.figure(figsize=(8, 6))\n",
    "sns.boxplot(x='room_type', y='price', data=listings_df1)\n",
    "plt.title('Price Distribution by Room Type')\n",
    "plt.show()"
   ]
  },
  {
   "cell_type": "code",
   "execution_count": 20,
   "id": "68afecb2-6dcf-4f90-ab23-3156f892a7c5",
   "metadata": {},
   "outputs": [
    {
     "data": {
      "image/png": "[encoded data removed]",
      "text/plain": [
       "<Figure size 1200x600 with 1 Axes>"
      ]
     },
     "metadata": {},
     "output_type": "display_data"
    }
   ],
   "source": [
    "# Box plot of price by property type\n",
    "plt.figure(figsize=(12, 6))\n",
    "sns.boxplot(x='property_type', y='price', data=listings_df1)\n",
    "plt.title('Price Distribution by Property Type')\n",
    "plt.xticks(rotation=45)\n",
    "plt.show()"
   ]
  },
  {
   "cell_type": "markdown",
   "id": "19f3c91b-ba45-42dc-99d2-12adcf33ab35",
   "metadata": {
    "jp-MarkdownHeadingCollapsed": true
   },
   "source": [
    "## Question 3: Can we predict the likelihood of a positive review based on listing attributes?"
   ]
  },
  {
   "cell_type": "code",
   "execution_count": 21,
   "id": "6d7aadd8-9eec-4f36-b6d0-76075e08bfcf",
   "metadata": {},
   "outputs": [],
   "source": [
    "listings_df2 = listings_df.copy()\n",
    "\n",
    "# Preprocess the 'price' column\n",
    "listings_df2['price'] = listings_df2['price'].str.replace('$', '').str.replace(',', '').astype(float)\n",
    "\n",
    "# Handle missing values if any\n",
    "listings_df2['accommodates'].fillna(listings_df2['accommodates'].mean(), inplace=True)\n",
    "listings_df2['bedrooms'].fillna(listings_df2['bedrooms'].mean(), inplace=True)\n",
    "listings_df2['bathrooms'].fillna(listings_df2['bathrooms'].mean(), inplace=True)\n",
    "listings_df2['price'].fillna(listings_df2['price'].mean(), inplace=True)"
   ]
  },
  {
   "cell_type": "code",
   "execution_count": 22,
   "id": "bb99d86d-6f34-4cd1-844e-63c8f7fabe18",
   "metadata": {},
   "outputs": [
    {
     "ename": "NameError",
     "evalue": "name 'train_test_split' is not defined",
     "output_type": "error",
     "traceback": [
      "\u001b[1;31m---------------------------------------------------------------------------\u001b[0m",
      "\u001b[1;31mNameError\u001b[0m                                 Traceback (most recent call last)",
      "Cell \u001b[1;32mIn[22], line 8\u001b[0m\n\u001b[0;32m      4\u001b[0m y \u001b[38;5;241m=\u001b[39m listings_df2[\u001b[38;5;124m'\u001b[39m\u001b[38;5;124mreview_scores_rating\u001b[39m\u001b[38;5;124m'\u001b[39m] \u001b[38;5;241m>\u001b[39m\u001b[38;5;241m=\u001b[39m \u001b[38;5;241m90\u001b[39m  \u001b[38;5;66;03m# Assuming positive review if review score is >= 90\u001b[39;00m\n\u001b[0;32m      7\u001b[0m \u001b[38;5;66;03m# Split the data into training and testing sets\u001b[39;00m\n\u001b[1;32m----> 8\u001b[0m X_train, X_test, y_train, y_test \u001b[38;5;241m=\u001b[39m train_test_split(X, y, test_size\u001b[38;5;241m=\u001b[39m\u001b[38;5;241m0.2\u001b[39m, random_state\u001b[38;5;241m=\u001b[39m\u001b[38;5;241m42\u001b[39m)\n\u001b[0;32m     10\u001b[0m \u001b[38;5;66;03m# Standardize features by removing the mean and scaling to unit variance\u001b[39;00m\n\u001b[0;32m     11\u001b[0m scaler \u001b[38;5;241m=\u001b[39m StandardScaler()\n",
      "\u001b[1;31mNameError\u001b[0m: name 'train_test_split' is not defined"
     ]
    }
   ],
   "source": [
    "# Select relevant features and target variable\n",
    "selected_features = ['accommodates', 'bedrooms', 'bathrooms', 'price']  # Add more features as needed\n",
    "X = listings_df2[selected_features]\n",
    "y = listings_df2['review_scores_rating'] >= 90  # Assuming positive review if review score is >= 90\n",
    "\n",
    "\n",
    "# Split the data into training and testing sets\n",
    "X_train, X_test, y_train, y_test = train_test_split(X, y, test_size=0.2, random_state=42)\n",
    "\n",
    "# Standardize features by removing the mean and scaling to unit variance\n",
    "scaler = StandardScaler()\n",
    "X_train_scaled = scaler.fit_transform(X_train)\n",
    "X_test_scaled = scaler.transform(X_test)\n",
    "\n",
    "# Initialize the logistic regression model\n",
    "model = LogisticRegression()\n",
    "\n",
    "# Train the model\n",
    "model.fit(X_train_scaled, y_train)\n",
    "\n",
    "# Predictions on the test set\n",
    "y_pred = model.predict(X_test_scaled)\n",
    "\n",
    "# Model evaluation\n",
    "accuracy = accuracy_score(y_test, y_pred)\n",
    "print(f'Accuracy: {accuracy}')\n"
   ]
  },
  {
   "cell_type": "code",
   "execution_count": null,
   "id": "468f1345-b9af-4033-8605-498fe547ef8e",
   "metadata": {},
   "outputs": [],
   "source": [
    "# Classification report\n",
    "print(classification_report(y_test, y_pred))"
   ]
  },
  {
   "cell_type": "code",
   "execution_count": null,
   "id": "26d8ced0-d68d-4763-92d7-e812632aa3f0",
   "metadata": {},
   "outputs": [],
   "source": [
    "# Feature importance\n",
    "if hasattr(model, 'coef_'):\n",
    "    feature_importance = pd.DataFrame({'Feature': selected_features, 'Importance': model.coef_[0]})\n",
    "    feature_importance = feature_importance.sort_values(by='Importance', ascending=False)\n",
    "\n",
    "    # Plot feature importance\n",
    "    plt.figure(figsize=(10, 6))\n",
    "    sns.barplot(x='Importance', y='Feature', data=feature_importance, palette='viridis')\n",
    "    plt.title('Feature Importance')\n",
    "    plt.xlabel('Importance')\n",
    "    plt.ylabel('Feature')\n",
    "    plt.show()"
   ]
  },
  {
   "cell_type": "code",
   "execution_count": null,
   "id": "3c18895c-8c23-4098-a7ce-6d8c83a96615",
   "metadata": {},
   "outputs": [],
   "source": []
  }
 ],
 "metadata": {
  "kernelspec": {
   "display_name": "Python 3 (ipykernel)",
   "language": "python",
   "name": "python3"
  },
  "language_info": {
   "codemirror_mode": {
    "name": "ipython",
    "version": 3
   },
   "file_extension": ".py",
   "mimetype": "text/x-python",
   "name": "python",
   "nbconvert_exporter": "python",
   "pygments_lexer": "ipython3",
   "version": "3.11.7"
  }
 },
 "nbformat": 4,
 "nbformat_minor": 5
}
