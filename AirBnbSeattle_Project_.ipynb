{
 "cells": [
  {
   "cell_type": "markdown",
   "id": "4fb65461-e8e0-4e61-ad58-3945653eed73",
   "metadata": {
    "jp-MarkdownHeadingCollapsed": true
   },
   "source": [
    "## Introduction \n",
    "\n",
    "Airbnb has become a popular choice for travelers seeking unique accommodations and for hosts looking to monetize their properties. Understanding the dynamics of the Airbnb market in Seattle is crucial for both hosts and guests to optimize their experiences and for Airbnb as a platform to enhance its offerings.\n",
    "\n",
    "This project follows the CRISP-DM framework as outlined in the Udacity tutorials. The following steps are involved:\n",
    "- Business Understanding\n",
    "- Data Understanding\n",
    "- Data Preparation\n",
    "- Modeling\n",
    "- Evaluation\n",
    "- Deployment"
   ]
  },
  {
   "cell_type": "markdown",
   "id": "969fdefe-1434-444b-983f-57f939ecc89e",
   "metadata": {},
   "source": [
    "## Business Understanding \n",
    "\n",
    "This analysis aims to delve into key aspects of the Airbnb market in Seattle by addressing three fundamental questions. \n",
    "\n",
    "- What are the busiest times of the year in Seattle for Airbnb bookings?\n",
    "- What is the impact of property type and room type on the pricing of Airbnb in Seattle?\n",
    "- Can we predict the likelihood of a positive review based on listing attributes?\n",
    "\n",
    "To answers these questions we will utilized data from the listings and calendar databases."
   ]
  },
  {
   "cell_type": "code",
   "execution_count": 1,
   "id": "3b962553-8138-4355-abf9-76993cb37b0d",
   "metadata": {},
   "outputs": [],
   "source": [
    "import numpy as np \n",
    "import pandas as pd \n",
    "import matplotlib.pyplot as plt\n",
    "import seaborn as sns\n",
    "import warnings\n",
    "from sklearn.linear_model import LogisticRegression\n",
    "from sklearn.model_selection import train_test_split\n",
    "from sklearn.preprocessing import StandardScaler\n",
    "from sklearn.metrics import accuracy_score\n",
    "from sklearn.metrics import classification_report\n",
    "warnings.filterwarnings('ignore', category=UserWarning)\n",
    "warnings.simplefilter(action='ignore', category=FutureWarning)"
   ]
  },
  {
   "cell_type": "code",
   "execution_count": 2,
   "id": "08af9fe3-f902-493d-8b08-c049937c3421",
   "metadata": {},
   "outputs": [],
   "source": [
    "# Load listings and calendar datasets\n",
    "listings_df = pd.read_csv(\"listings_seattle.csv\")\n",
    "calendar_df = pd.read_csv(\"calendar_seattle.csv\")"
   ]
  },
  {
   "cell_type": "code",
   "execution_count": 3,
   "id": "5a9ad319-753b-449a-89fd-daa375604bb0",
   "metadata": {},
   "outputs": [],
   "source": [
    "#Function for Plotting\n",
    "def plot_data(data, x_column, y_column, title, plot_type='line', **kwargs):\n",
    "    \n",
    "    if plot_type == 'line':\n",
    "        plt.plot(data[x_column], data[y_column], marker='o', **kwargs)\n",
    "    elif plot_type == 'bar':\n",
    "        sns.barplot(x=x_column, y=y_column, data=data, **kwargs)\n",
    "    elif plot_type == 'box':\n",
    "        sns.boxplot(x=x_column, y=y_column, data=data, **kwargs)\n",
    "    \n",
    "    plt.title(title)\n",
    "    plt.xlabel(x_column)\n",
    "    plt.ylabel(y_column)\n",
    "    plt.show()"
   ]
  },
  {
   "cell_type": "markdown",
   "id": "4acbfe15-b580-4db4-921d-3e85c1cc8a44",
   "metadata": {},
   "source": [
    "## Question 1: What are the busiest times of the year in Seattle for Airbnb bookings?\n",
    "\n",
    "## Data Understanding\n",
    "\n",
    "To answer this question, we will use calendar dataset as it contains availability by date. We need to identify the periods of availability and to determine which dates are booked and which are available."
   ]
  },
  {
   "cell_type": "code",
   "execution_count": 4,
   "id": "12b69657-ef70-4cfa-80d5-1f51e5056b3e",
   "metadata": {},
   "outputs": [
    {
     "data": {
      "text/html": [
       "<div>\n",
       "<style scoped>\n",
       "    .dataframe tbody tr th:only-of-type {\n",
       "        vertical-align: middle;\n",
       "    }\n",
       "\n",
       "    .dataframe tbody tr th {\n",
       "        vertical-align: top;\n",
       "    }\n",
       "\n",
       "    .dataframe thead th {\n",
       "        text-align: right;\n",
       "    }\n",
       "</style>\n",
       "<table border=\"1\" class=\"dataframe\">\n",
       "  <thead>\n",
       "    <tr style=\"text-align: right;\">\n",
       "      <th></th>\n",
       "      <th>listing_id</th>\n",
       "      <th>date</th>\n",
       "      <th>available</th>\n",
       "      <th>price</th>\n",
       "    </tr>\n",
       "  </thead>\n",
       "  <tbody>\n",
       "    <tr>\n",
       "      <th>0</th>\n",
       "      <td>241032</td>\n",
       "      <td>2016-01-04</td>\n",
       "      <td>t</td>\n",
       "      <td>$85.00</td>\n",
       "    </tr>\n",
       "    <tr>\n",
       "      <th>1</th>\n",
       "      <td>241032</td>\n",
       "      <td>2016-01-05</td>\n",
       "      <td>t</td>\n",
       "      <td>$85.00</td>\n",
       "    </tr>\n",
       "    <tr>\n",
       "      <th>2</th>\n",
       "      <td>241032</td>\n",
       "      <td>2016-01-06</td>\n",
       "      <td>f</td>\n",
       "      <td>NaN</td>\n",
       "    </tr>\n",
       "    <tr>\n",
       "      <th>3</th>\n",
       "      <td>241032</td>\n",
       "      <td>2016-01-07</td>\n",
       "      <td>f</td>\n",
       "      <td>NaN</td>\n",
       "    </tr>\n",
       "    <tr>\n",
       "      <th>4</th>\n",
       "      <td>241032</td>\n",
       "      <td>2016-01-08</td>\n",
       "      <td>f</td>\n",
       "      <td>NaN</td>\n",
       "    </tr>\n",
       "  </tbody>\n",
       "</table>\n",
       "</div>"
      ],
      "text/plain": [
       "   listing_id        date available   price\n",
       "0      241032  2016-01-04         t  $85.00\n",
       "1      241032  2016-01-05         t  $85.00\n",
       "2      241032  2016-01-06         f     NaN\n",
       "3      241032  2016-01-07         f     NaN\n",
       "4      241032  2016-01-08         f     NaN"
      ]
     },
     "execution_count": 4,
     "metadata": {},
     "output_type": "execute_result"
    }
   ],
   "source": [
    "# Display the first few rows of the dataframe\n",
    "calendar_df.head()"
   ]
  },
  {
   "cell_type": "code",
   "execution_count": 5,
   "id": "ab3f0b9b-5376-422d-b730-ab5c548be1eb",
   "metadata": {},
   "outputs": [
    {
     "data": {
      "text/plain": [
       "listing_id         0\n",
       "date               0\n",
       "available          0\n",
       "price         459028\n",
       "dtype: int64"
      ]
     },
     "execution_count": 5,
     "metadata": {},
     "output_type": "execute_result"
    }
   ],
   "source": [
    "# Check for missing values\n",
    "calendar_df.isnull().sum()"
   ]
  },
  {
   "cell_type": "code",
   "execution_count": 6,
   "id": "639339dd-fd00-46d8-85d2-fca4a3aafc29",
   "metadata": {},
   "outputs": [
    {
     "data": {
      "text/plain": [
       "listing_id     int64\n",
       "date          object\n",
       "available     object\n",
       "price         object\n",
       "dtype: object"
      ]
     },
     "execution_count": 6,
     "metadata": {},
     "output_type": "execute_result"
    }
   ],
   "source": [
    "# Check the type of the columns\n",
    "calendar_df.dtypes"
   ]
  },
  {
   "cell_type": "markdown",
   "id": "c467377f-a47a-495f-bfef-b45d9621dde6",
   "metadata": {},
   "source": [
    "## Data Preparation\n",
    "\n",
    "First we have convert the 'price' column from a string format to a numeric format, which is more suitable for mathematical operations and analysis.\n",
    "\n",
    "Most of 'price' values are nulls. Here we have fill the missing values with the median price which is a common strategy to maintain the distribution of prices in the dataset while handling missing data.\n",
    "\n",
    "Also, we have maps 't' to 1 and 'f' to 0 using the map() method, effectively converting this categorical data into numerical format (1 for available, 0 for not available)."
   ]
  },
  {
   "cell_type": "code",
   "execution_count": 7,
   "id": "5a0edc3b-8080-4229-acf8-1ce6a208a822",
   "metadata": {},
   "outputs": [],
   "source": [
    "# Data Cleaning and Preprocessing\n",
    "# Convert 'date' column to datetime format\n",
    "calendar_df['date'] = pd.to_datetime(calendar_df['date'])\n",
    "\n",
    "# Convert 'price' column to numeric after removing the $ sign and commas\n",
    "calendar_df['price'] = calendar_df['price'].replace({'\\$': '', ',': ''}, regex=True).astype(float)\n",
    "\n",
    "# Fill missing values in 'price' column with the median price\n",
    "median_price = calendar_df['price'].median()\n",
    "calendar_df['price'].fillna(median_price, inplace=True)\n",
    "\n",
    "# Convert 'available' column to numeric format\n",
    "calendar_df['available'] = calendar_df['available'].map({'t': 1, 'f': 0})\n",
    "\n",
    "# Extract month from the 'date' column\n",
    "calendar_df['month'] = calendar_df['date'].dt.month\n",
    "\n",
    "# Calculate the average occupancy rate and pricing for each month\n",
    "monthly_stats = calendar_df.groupby('month').agg({'available': 'mean', 'price': 'mean'}).reset_index()"
   ]
  },
  {
   "cell_type": "code",
   "execution_count": 8,
   "id": "21c46a4c-8653-4ad7-9ed0-dcaa34507094",
   "metadata": {},
   "outputs": [
    {
     "data": {
      "text/plain": [
       "listing_id    0\n",
       "date          0\n",
       "available     0\n",
       "price         0\n",
       "month         0\n",
       "dtype: int64"
      ]
     },
     "execution_count": 8,
     "metadata": {},
     "output_type": "execute_result"
    }
   ],
   "source": [
    "# Check for missing values after filling\n",
    "calendar_df.isnull().sum()"
   ]
  },
  {
   "cell_type": "code",
   "execution_count": 9,
   "id": "7b08ba8d-5201-4299-abac-a0a430befe99",
   "metadata": {},
   "outputs": [
    {
     "data": {
      "text/html": [
       "<div>\n",
       "<style scoped>\n",
       "    .dataframe tbody tr th:only-of-type {\n",
       "        vertical-align: middle;\n",
       "    }\n",
       "\n",
       "    .dataframe tbody tr th {\n",
       "        vertical-align: top;\n",
       "    }\n",
       "\n",
       "    .dataframe thead th {\n",
       "        text-align: right;\n",
       "    }\n",
       "</style>\n",
       "<table border=\"1\" class=\"dataframe\">\n",
       "  <thead>\n",
       "    <tr style=\"text-align: right;\">\n",
       "      <th></th>\n",
       "      <th>month</th>\n",
       "      <th>available</th>\n",
       "      <th>price</th>\n",
       "    </tr>\n",
       "  </thead>\n",
       "  <tbody>\n",
       "    <tr>\n",
       "      <th>0</th>\n",
       "      <td>1</td>\n",
       "      <td>0.566937</td>\n",
       "      <td>116.887332</td>\n",
       "    </tr>\n",
       "    <tr>\n",
       "      <th>1</th>\n",
       "      <td>2</td>\n",
       "      <td>0.662208</td>\n",
       "      <td>119.127761</td>\n",
       "    </tr>\n",
       "    <tr>\n",
       "      <th>2</th>\n",
       "      <td>3</td>\n",
       "      <td>0.709187</td>\n",
       "      <td>122.931623</td>\n",
       "    </tr>\n",
       "    <tr>\n",
       "      <th>3</th>\n",
       "      <td>4</td>\n",
       "      <td>0.663847</td>\n",
       "      <td>126.324411</td>\n",
       "    </tr>\n",
       "    <tr>\n",
       "      <th>4</th>\n",
       "      <td>5</td>\n",
       "      <td>0.675670</td>\n",
       "      <td>129.633747</td>\n",
       "    </tr>\n",
       "    <tr>\n",
       "      <th>5</th>\n",
       "      <td>6</td>\n",
       "      <td>0.674384</td>\n",
       "      <td>134.945687</td>\n",
       "    </tr>\n",
       "    <tr>\n",
       "      <th>6</th>\n",
       "      <td>7</td>\n",
       "      <td>0.627097</td>\n",
       "      <td>136.024232</td>\n",
       "    </tr>\n",
       "    <tr>\n",
       "      <th>7</th>\n",
       "      <td>8</td>\n",
       "      <td>0.645051</td>\n",
       "      <td>135.870647</td>\n",
       "    </tr>\n",
       "    <tr>\n",
       "      <th>8</th>\n",
       "      <td>9</td>\n",
       "      <td>0.674402</td>\n",
       "      <td>132.102279</td>\n",
       "    </tr>\n",
       "    <tr>\n",
       "      <th>9</th>\n",
       "      <td>10</td>\n",
       "      <td>0.696514</td>\n",
       "      <td>128.524637</td>\n",
       "    </tr>\n",
       "    <tr>\n",
       "      <th>10</th>\n",
       "      <td>11</td>\n",
       "      <td>0.713986</td>\n",
       "      <td>128.055395</td>\n",
       "    </tr>\n",
       "    <tr>\n",
       "      <th>11</th>\n",
       "      <td>12</td>\n",
       "      <td>0.735573</td>\n",
       "      <td>129.781299</td>\n",
       "    </tr>\n",
       "  </tbody>\n",
       "</table>\n",
       "</div>"
      ],
      "text/plain": [
       "    month  available       price\n",
       "0       1   0.566937  116.887332\n",
       "1       2   0.662208  119.127761\n",
       "2       3   0.709187  122.931623\n",
       "3       4   0.663847  126.324411\n",
       "4       5   0.675670  129.633747\n",
       "5       6   0.674384  134.945687\n",
       "6       7   0.627097  136.024232\n",
       "7       8   0.645051  135.870647\n",
       "8       9   0.674402  132.102279\n",
       "9      10   0.696514  128.524637\n",
       "10     11   0.713986  128.055395\n",
       "11     12   0.735573  129.781299"
      ]
     },
     "execution_count": 9,
     "metadata": {},
     "output_type": "execute_result"
    }
   ],
   "source": [
    "# Display the monthly statistics\n",
    "monthly_stats"
   ]
  },
  {
   "cell_type": "code",
   "execution_count": 10,
   "id": "97f5c284-3095-4c8b-9756-bab6a3b4115d",
   "metadata": {},
   "outputs": [
    {
     "data": {
      "image/png": "[encoded data removed]",
      "text/plain": [
       "<Figure size 640x480 with 1 Axes>"
      ]
     },
     "metadata": {},
     "output_type": "display_data"
    },
    {
     "data": {
      "image/png": "[encoded data removed]",
      "text/plain": [
       "<Figure size 640x480 with 1 Axes>"
      ]
     },
     "metadata": {},
     "output_type": "display_data"
    }
   ],
   "source": [
    "# Plot average occupancy rate\n",
    "plt.subplot(2, 1, 1)\n",
    "plot_data(monthly_stats, 'month', 'available', 'Average Occupancy Rate by Month', plot_type='line')\n",
    "# Plot average price\n",
    "plt.subplot(2, 1, 2)\n",
    "plot_data(monthly_stats, 'month', 'price', 'Average Price by Month', plot_type='line')"
   ]
  },
  {
   "cell_type": "markdown",
   "id": "e34b8e52-a46f-49fe-8b30-f59ac3acf8b5",
   "metadata": {},
   "source": [
    "**Figure 1 above shows that the busiest time of the year in Seattle for Airbnb bookings are in March and December.**\n",
    "\n",
    "**Figure 2 above shows additional information indicating an inverse relationship between occupancy and pricing, so when the occupancy decrease the price will increase.** "
   ]
  },
  {
   "cell_type": "markdown",
   "id": "4b18732c-f8af-4b88-96a0-f9dba9b4afb4",
   "metadata": {},
   "source": [
    "## Question 2: What is the impact of property type and room type on the pricing of Airbnb in Seattle?\n",
    "\n",
    "## Data Understanding\n",
    "\n",
    "To tackle this question, we must collect data on property type, room type, and pricing from the Seattle Airbnb listings dataset. Then, we'll analyze the data to observe the impact of pricing differences."
   ]
  },
  {
   "cell_type": "code",
   "execution_count": 11,
   "id": "455deb0a-6b96-442f-9c05-4dcace07341b",
   "metadata": {},
   "outputs": [
    {
     "data": {
      "text/html": [
       "<div>\n",
       "<style scoped>\n",
       "    .dataframe tbody tr th:only-of-type {\n",
       "        vertical-align: middle;\n",
       "    }\n",
       "\n",
       "    .dataframe tbody tr th {\n",
       "        vertical-align: top;\n",
       "    }\n",
       "\n",
       "    .dataframe thead th {\n",
       "        text-align: right;\n",
       "    }\n",
       "</style>\n",
       "<table border=\"1\" class=\"dataframe\">\n",
       "  <thead>\n",
       "    <tr style=\"text-align: right;\">\n",
       "      <th></th>\n",
       "      <th>id</th>\n",
       "      <th>listing_url</th>\n",
       "      <th>scrape_id</th>\n",
       "      <th>last_scraped</th>\n",
       "      <th>name</th>\n",
       "      <th>summary</th>\n",
       "      <th>space</th>\n",
       "      <th>description</th>\n",
       "      <th>experiences_offered</th>\n",
       "      <th>neighborhood_overview</th>\n",
       "      <th>...</th>\n",
       "      <th>review_scores_value</th>\n",
       "      <th>requires_license</th>\n",
       "      <th>license</th>\n",
       "      <th>jurisdiction_names</th>\n",
       "      <th>instant_bookable</th>\n",
       "      <th>cancellation_policy</th>\n",
       "      <th>require_guest_profile_picture</th>\n",
       "      <th>require_guest_phone_verification</th>\n",
       "      <th>calculated_host_listings_count</th>\n",
       "      <th>reviews_per_month</th>\n",
       "    </tr>\n",
       "  </thead>\n",
       "  <tbody>\n",
       "    <tr>\n",
       "      <th>0</th>\n",
       "      <td>241032</td>\n",
       "      <td>https://www.airbnb.com/rooms/241032</td>\n",
       "      <td>20160104002432</td>\n",
       "      <td>2016-01-04</td>\n",
       "      <td>Stylish Queen Anne Apartment</td>\n",
       "      <td>NaN</td>\n",
       "      <td>Make your self at home in this charming one-be...</td>\n",
       "      <td>Make your self at home in this charming one-be...</td>\n",
       "      <td>none</td>\n",
       "      <td>NaN</td>\n",
       "      <td>...</td>\n",
       "      <td>10.0</td>\n",
       "      <td>f</td>\n",
       "      <td>NaN</td>\n",
       "      <td>WASHINGTON</td>\n",
       "      <td>f</td>\n",
       "      <td>moderate</td>\n",
       "      <td>f</td>\n",
       "      <td>f</td>\n",
       "      <td>2</td>\n",
       "      <td>4.07</td>\n",
       "    </tr>\n",
       "    <tr>\n",
       "      <th>1</th>\n",
       "      <td>953595</td>\n",
       "      <td>https://www.airbnb.com/rooms/953595</td>\n",
       "      <td>20160104002432</td>\n",
       "      <td>2016-01-04</td>\n",
       "      <td>Bright &amp; Airy Queen Anne Apartment</td>\n",
       "      <td>Chemically sensitive? We've removed the irrita...</td>\n",
       "      <td>Beautiful, hypoallergenic apartment in an extr...</td>\n",
       "      <td>Chemically sensitive? We've removed the irrita...</td>\n",
       "      <td>none</td>\n",
       "      <td>Queen Anne is a wonderful, truly functional vi...</td>\n",
       "      <td>...</td>\n",
       "      <td>10.0</td>\n",
       "      <td>f</td>\n",
       "      <td>NaN</td>\n",
       "      <td>WASHINGTON</td>\n",
       "      <td>f</td>\n",
       "      <td>strict</td>\n",
       "      <td>t</td>\n",
       "      <td>t</td>\n",
       "      <td>6</td>\n",
       "      <td>1.48</td>\n",
       "    </tr>\n",
       "    <tr>\n",
       "      <th>2</th>\n",
       "      <td>3308979</td>\n",
       "      <td>https://www.airbnb.com/rooms/3308979</td>\n",
       "      <td>20160104002432</td>\n",
       "      <td>2016-01-04</td>\n",
       "      <td>New Modern House-Amazing water view</td>\n",
       "      <td>New modern house built in 2013.  Spectacular s...</td>\n",
       "      <td>Our house is modern, light and fresh with a wa...</td>\n",
       "      <td>New modern house built in 2013.  Spectacular s...</td>\n",
       "      <td>none</td>\n",
       "      <td>Upper Queen Anne is a charming neighborhood fu...</td>\n",
       "      <td>...</td>\n",
       "      <td>10.0</td>\n",
       "      <td>f</td>\n",
       "      <td>NaN</td>\n",
       "      <td>WASHINGTON</td>\n",
       "      <td>f</td>\n",
       "      <td>strict</td>\n",
       "      <td>f</td>\n",
       "      <td>f</td>\n",
       "      <td>2</td>\n",
       "      <td>1.15</td>\n",
       "    </tr>\n",
       "    <tr>\n",
       "      <th>3</th>\n",
       "      <td>7421966</td>\n",
       "      <td>https://www.airbnb.com/rooms/7421966</td>\n",
       "      <td>20160104002432</td>\n",
       "      <td>2016-01-04</td>\n",
       "      <td>Queen Anne Chateau</td>\n",
       "      <td>A charming apartment that sits atop Queen Anne...</td>\n",
       "      <td>NaN</td>\n",
       "      <td>A charming apartment that sits atop Queen Anne...</td>\n",
       "      <td>none</td>\n",
       "      <td>NaN</td>\n",
       "      <td>...</td>\n",
       "      <td>NaN</td>\n",
       "      <td>f</td>\n",
       "      <td>NaN</td>\n",
       "      <td>WASHINGTON</td>\n",
       "      <td>f</td>\n",
       "      <td>flexible</td>\n",
       "      <td>f</td>\n",
       "      <td>f</td>\n",
       "      <td>1</td>\n",
       "      <td>NaN</td>\n",
       "    </tr>\n",
       "    <tr>\n",
       "      <th>4</th>\n",
       "      <td>278830</td>\n",
       "      <td>https://www.airbnb.com/rooms/278830</td>\n",
       "      <td>20160104002432</td>\n",
       "      <td>2016-01-04</td>\n",
       "      <td>Charming craftsman 3 bdm house</td>\n",
       "      <td>Cozy family craftman house in beautiful neighb...</td>\n",
       "      <td>Cozy family craftman house in beautiful neighb...</td>\n",
       "      <td>Cozy family craftman house in beautiful neighb...</td>\n",
       "      <td>none</td>\n",
       "      <td>We are in the beautiful neighborhood of Queen ...</td>\n",
       "      <td>...</td>\n",
       "      <td>9.0</td>\n",
       "      <td>f</td>\n",
       "      <td>NaN</td>\n",
       "      <td>WASHINGTON</td>\n",
       "      <td>f</td>\n",
       "      <td>strict</td>\n",
       "      <td>f</td>\n",
       "      <td>f</td>\n",
       "      <td>1</td>\n",
       "      <td>0.89</td>\n",
       "    </tr>\n",
       "  </tbody>\n",
       "</table>\n",
       "<p>5 rows × 92 columns</p>\n",
       "</div>"
      ],
      "text/plain": [
       "        id                           listing_url       scrape_id last_scraped  \\\n",
       "0   241032   https://www.airbnb.com/rooms/241032  20160104002432   2016-01-04   \n",
       "1   953595   https://www.airbnb.com/rooms/953595  20160104002432   2016-01-04   \n",
       "2  3308979  https://www.airbnb.com/rooms/3308979  20160104002432   2016-01-04   \n",
       "3  7421966  https://www.airbnb.com/rooms/7421966  20160104002432   2016-01-04   \n",
       "4   278830   https://www.airbnb.com/rooms/278830  20160104002432   2016-01-04   \n",
       "\n",
       "                                  name  \\\n",
       "0         Stylish Queen Anne Apartment   \n",
       "1   Bright & Airy Queen Anne Apartment   \n",
       "2  New Modern House-Amazing water view   \n",
       "3                   Queen Anne Chateau   \n",
       "4       Charming craftsman 3 bdm house   \n",
       "\n",
       "                                             summary  \\\n",
       "0                                                NaN   \n",
       "1  Chemically sensitive? We've removed the irrita...   \n",
       "2  New modern house built in 2013.  Spectacular s...   \n",
       "3  A charming apartment that sits atop Queen Anne...   \n",
       "4  Cozy family craftman house in beautiful neighb...   \n",
       "\n",
       "                                               space  \\\n",
       "0  Make your self at home in this charming one-be...   \n",
       "1  Beautiful, hypoallergenic apartment in an extr...   \n",
       "2  Our house is modern, light and fresh with a wa...   \n",
       "3                                                NaN   \n",
       "4  Cozy family craftman house in beautiful neighb...   \n",
       "\n",
       "                                         description experiences_offered  \\\n",
       "0  Make your self at home in this charming one-be...                none   \n",
       "1  Chemically sensitive? We've removed the irrita...                none   \n",
       "2  New modern house built in 2013.  Spectacular s...                none   \n",
       "3  A charming apartment that sits atop Queen Anne...                none   \n",
       "4  Cozy family craftman house in beautiful neighb...                none   \n",
       "\n",
       "                               neighborhood_overview  ... review_scores_value  \\\n",
       "0                                                NaN  ...                10.0   \n",
       "1  Queen Anne is a wonderful, truly functional vi...  ...                10.0   \n",
       "2  Upper Queen Anne is a charming neighborhood fu...  ...                10.0   \n",
       "3                                                NaN  ...                 NaN   \n",
       "4  We are in the beautiful neighborhood of Queen ...  ...                 9.0   \n",
       "\n",
       "  requires_license license jurisdiction_names instant_bookable  \\\n",
       "0                f     NaN         WASHINGTON                f   \n",
       "1                f     NaN         WASHINGTON                f   \n",
       "2                f     NaN         WASHINGTON                f   \n",
       "3                f     NaN         WASHINGTON                f   \n",
       "4                f     NaN         WASHINGTON                f   \n",
       "\n",
       "  cancellation_policy  require_guest_profile_picture  \\\n",
       "0            moderate                              f   \n",
       "1              strict                              t   \n",
       "2              strict                              f   \n",
       "3            flexible                              f   \n",
       "4              strict                              f   \n",
       "\n",
       "  require_guest_phone_verification calculated_host_listings_count  \\\n",
       "0                                f                              2   \n",
       "1                                t                              6   \n",
       "2                                f                              2   \n",
       "3                                f                              1   \n",
       "4                                f                              1   \n",
       "\n",
       "  reviews_per_month  \n",
       "0              4.07  \n",
       "1              1.48  \n",
       "2              1.15  \n",
       "3               NaN  \n",
       "4              0.89  \n",
       "\n",
       "[5 rows x 92 columns]"
      ]
     },
     "execution_count": 11,
     "metadata": {},
     "output_type": "execute_result"
    }
   ],
   "source": [
    "# Display the first few rows of the dataframe\n",
    "listings_df.head()"
   ]
  },
  {
   "cell_type": "code",
   "execution_count": 12,
   "id": "b0ed7c01-246c-4a30-84cf-c1d221df7d6f",
   "metadata": {},
   "outputs": [
    {
     "data": {
      "text/plain": [
       "id                                    int64\n",
       "listing_url                          object\n",
       "scrape_id                             int64\n",
       "last_scraped                         object\n",
       "name                                 object\n",
       "                                     ...   \n",
       "cancellation_policy                  object\n",
       "require_guest_profile_picture        object\n",
       "require_guest_phone_verification     object\n",
       "calculated_host_listings_count        int64\n",
       "reviews_per_month                   float64\n",
       "Length: 92, dtype: object"
      ]
     },
     "execution_count": 12,
     "metadata": {},
     "output_type": "execute_result"
    }
   ],
   "source": [
    "# Check data types of all columns\n",
    "listings_df.dtypes"
   ]
  },
  {
   "cell_type": "markdown",
   "id": "37e6ed47-29e5-4548-bdee-c3a3e610a626",
   "metadata": {},
   "source": [
    "## Data Preparation\n",
    "\n",
    "Initially, we'll discard any columns that won't be utilized, shifting our attention to the key columns: property type, room type, and pricing.\n",
    "\n",
    "Since there's only one missing value in the \"property type\" column, and the dataset is large, we'll remove the corresponding row as it won't significantly impact our analysis."
   ]
  },
  {
   "cell_type": "code",
   "execution_count": 13,
   "id": "a9a6ddf7-fda1-480d-a9c6-90e0120e7250",
   "metadata": {},
   "outputs": [],
   "source": [
    "# Data Cleaning and Preprocessing\n",
    "# Drop columns with too many missing values or not relevant to price analysis\n",
    "listings_df1 = listings_df.drop(columns=['id', 'listing_url','host_since', 'scrape_id', 'last_scraped', 'name', \n",
    "                                        'summary', 'space', 'description', 'experiences_offered', \n",
    "                                        'neighborhood_overview', 'notes', 'transit', 'thumbnail_url', \n",
    "                                        'medium_url', 'picture_url', 'xl_picture_url', 'host_id', \n",
    "                                        'host_url', 'host_name', 'host_location', 'host_about', \n",
    "                                        'host_thumbnail_url', 'host_picture_url', 'host_neighbourhood', \n",
    "                                        'host_total_listings_count', 'host_verifications', \n",
    "                                        'host_has_profile_pic', 'host_identity_verified', 'street', \n",
    "                                        'neighbourhood', 'neighbourhood_cleansed', 'city', 'state', \n",
    "                                        'zipcode', 'market', 'smart_location', 'country_code', 'country', \n",
    "                                        'is_location_exact', 'calendar_last_scraped', 'requires_license', \n",
    "                                        'license', 'jurisdiction_names', 'reviews_per_month','host_response_time', \n",
    "                                         'host_response_rate', 'host_acceptance_rate','host_is_superhost', 'host_listings_count',\n",
    "                                       'neighbourhood_group_cleansed', 'latitude', 'longitude',\n",
    "                                       'accommodates', 'bathrooms', 'bedrooms',\n",
    "                                       'beds', 'bed_type', 'amenities', 'square_feet',  'weekly_price',\n",
    "                                       'monthly_price', 'security_deposit', 'cleaning_fee', 'guests_included',\n",
    "                                       'extra_people', 'minimum_nights', 'maximum_nights', 'calendar_updated',\n",
    "                                       'has_availability', 'availability_30', 'availability_60',\n",
    "                                       'availability_90', 'availability_365', 'number_of_reviews',\n",
    "                                       'first_review', 'last_review', 'review_scores_rating',\n",
    "                                       'review_scores_accuracy', 'review_scores_cleanliness',\n",
    "                                       'review_scores_checkin', 'review_scores_communication',\n",
    "                                       'review_scores_location', 'review_scores_value', 'instant_bookable',\n",
    "                                       'cancellation_policy', 'require_guest_profile_picture',\n",
    "                                       'require_guest_phone_verification', 'calculated_host_listings_count'])"
   ]
  },
  {
   "cell_type": "code",
   "execution_count": 14,
   "id": "218d3b8b-b4b2-42ef-9794-03179e627267",
   "metadata": {},
   "outputs": [
    {
     "data": {
      "text/html": [
       "<div>\n",
       "<style scoped>\n",
       "    .dataframe tbody tr th:only-of-type {\n",
       "        vertical-align: middle;\n",
       "    }\n",
       "\n",
       "    .dataframe tbody tr th {\n",
       "        vertical-align: top;\n",
       "    }\n",
       "\n",
       "    .dataframe thead th {\n",
       "        text-align: right;\n",
       "    }\n",
       "</style>\n",
       "<table border=\"1\" class=\"dataframe\">\n",
       "  <thead>\n",
       "    <tr style=\"text-align: right;\">\n",
       "      <th></th>\n",
       "      <th>property_type</th>\n",
       "      <th>room_type</th>\n",
       "      <th>price</th>\n",
       "    </tr>\n",
       "  </thead>\n",
       "  <tbody>\n",
       "    <tr>\n",
       "      <th>0</th>\n",
       "      <td>Apartment</td>\n",
       "      <td>Entire home/apt</td>\n",
       "      <td>$85.00</td>\n",
       "    </tr>\n",
       "    <tr>\n",
       "      <th>1</th>\n",
       "      <td>Apartment</td>\n",
       "      <td>Entire home/apt</td>\n",
       "      <td>$150.00</td>\n",
       "    </tr>\n",
       "    <tr>\n",
       "      <th>2</th>\n",
       "      <td>House</td>\n",
       "      <td>Entire home/apt</td>\n",
       "      <td>$975.00</td>\n",
       "    </tr>\n",
       "    <tr>\n",
       "      <th>3</th>\n",
       "      <td>Apartment</td>\n",
       "      <td>Entire home/apt</td>\n",
       "      <td>$100.00</td>\n",
       "    </tr>\n",
       "    <tr>\n",
       "      <th>4</th>\n",
       "      <td>House</td>\n",
       "      <td>Entire home/apt</td>\n",
       "      <td>$450.00</td>\n",
       "    </tr>\n",
       "  </tbody>\n",
       "</table>\n",
       "</div>"
      ],
      "text/plain": [
       "  property_type        room_type    price\n",
       "0     Apartment  Entire home/apt   $85.00\n",
       "1     Apartment  Entire home/apt  $150.00\n",
       "2         House  Entire home/apt  $975.00\n",
       "3     Apartment  Entire home/apt  $100.00\n",
       "4         House  Entire home/apt  $450.00"
      ]
     },
     "execution_count": 14,
     "metadata": {},
     "output_type": "execute_result"
    }
   ],
   "source": [
    "listings_df1.head()"
   ]
  },
  {
   "cell_type": "code",
   "execution_count": 15,
   "id": "f6d280b9-a2ea-438f-a961-15276eb384b8",
   "metadata": {},
   "outputs": [
    {
     "name": "stdout",
     "output_type": "stream",
     "text": [
      "property_type    1\n",
      "room_type        0\n",
      "price            0\n",
      "dtype: int64\n"
     ]
    }
   ],
   "source": [
    "print(listings_df1.isnull().sum())"
   ]
  },
  {
   "cell_type": "code",
   "execution_count": 16,
   "id": "bd52909a-7a45-4405-b134-984282ddc57e",
   "metadata": {},
   "outputs": [
    {
     "name": "stdout",
     "output_type": "stream",
     "text": [
      "     property_type        room_type    price\n",
      "2184           NaN  Entire home/apt  $120.00\n"
     ]
    }
   ],
   "source": [
    "# Find the row with null values\n",
    "null_row = listings_df1[listings_df1.isnull().any(axis=1)]\n",
    "\n",
    "# Print the row with null values\n",
    "print(null_row)"
   ]
  },
  {
   "cell_type": "code",
   "execution_count": 17,
   "id": "25a0283c-533c-435a-a6da-7b1f1adb91b8",
   "metadata": {},
   "outputs": [],
   "source": [
    "# Convert 'price' column to numeric after removing the $ sign and commas\n",
    "listings_df1['price'] = listings_df1['price'].replace({'\\$': '', ',': ''}, regex=True).astype(float)\n",
    "\n",
    "listings_df1.dropna(inplace=True)"
   ]
  },
  {
   "cell_type": "code",
   "execution_count": 18,
   "id": "e89bafdc-9506-4191-9f98-218e9c955722",
   "metadata": {},
   "outputs": [
    {
     "name": "stdout",
     "output_type": "stream",
     "text": [
      "property_type    0\n",
      "room_type        0\n",
      "price            0\n",
      "dtype: int64\n"
     ]
    }
   ],
   "source": [
    "# check nulls after Pre-processing\n",
    "print(listings_df1.isnull().sum())"
   ]
  },
  {
   "cell_type": "code",
   "execution_count": 27,
   "id": "f32ca7fb-cc35-4d38-9ad3-301d00fc01ee",
   "metadata": {},
   "outputs": [
    {
     "data": {
      "image/png": "[encoded data removed]",
      "text/plain": [
       "<Figure size 800x600 with 1 Axes>"
      ]
     },
     "metadata": {},
     "output_type": "display_data"
    },
    {
     "data": {
      "image/png": "[encoded data removed]",
      "text/plain": [
       "<Figure size 1200x600 with 1 Axes>"
      ]
     },
     "metadata": {},
     "output_type": "display_data"
    }
   ],
   "source": [
    "# Box plot of price by room type\n",
    "plt.figure(figsize=(8, 6))\n",
    "plot_data(listings_df1, 'room_type', 'price', 'Price Distribution by Room Type', plot_type='box')\n",
    "# Box plot of price by property type\n",
    "plt.figure(figsize=(12, 6))\n",
    "plt.xticks(rotation=45) \n",
    "plot_data(listings_df1, 'property_type', 'price', 'Price Distribution by Property Type', plot_type='box')"
   ]
  },
  {
   "cell_type": "markdown",
   "id": "8186c460-2c4f-47d5-9f5b-fee5767be5ae",
   "metadata": {},
   "source": [
    "**Figure 1 above shows that price distribution varies significantly depending on the room type, with entire home/apts generally commanding higher prices and exhibiting more variability compared to private rooms and shared rooms.**\n",
    "\n",
    "**Figure 2 above shows  illustrates that boat have the highest prices, while dorm ,yurt and tents have the lowest. Other property types fall in between.** "
   ]
  },
  {
   "cell_type": "markdown",
   "id": "19f3c91b-ba45-42dc-99d2-12adcf33ab35",
   "metadata": {},
   "source": [
    "## Question 3: Can we predict the likelihood of a positive review based on listing attributes?\n",
    "\n",
    "## Data Understanding\n",
    "\n",
    "We will focus on the attributes 'accommodates', 'bedrooms', 'bathrooms', and 'price' to determine if they can predict the likelihood of a positive review, defined as having a review score rating of 90 or higher in the dataset listings_df2.\n",
    "\r\n",
    "\r\n"
   ]
  },
  {
   "cell_type": "code",
   "execution_count": 21,
   "id": "5bfffa87-7707-4b06-a10b-d611a6b9ee45",
   "metadata": {},
   "outputs": [],
   "source": [
    "listings_df2 = listings_df.copy()"
   ]
  },
  {
   "cell_type": "markdown",
   "id": "0072a4a6-3169-46cb-9713-010fa3a3caf1",
   "metadata": {},
   "source": [
    "## Data Preparation\n",
    "\n",
    "For the 'price' column we will remove the dollar sign and commas from the 'price' column, and convert the values to float data type.\n",
    "\n",
    "Also, we have fill the otherg missing values with the meanto  preserves data distributio  and maintains compatibility with machine learning algorithms."
   ]
  },
  {
   "cell_type": "code",
   "execution_count": 22,
   "id": "6d7aadd8-9eec-4f36-b6d0-76075e08bfcf",
   "metadata": {},
   "outputs": [],
   "source": [
    "# Preprocess the 'price' column\n",
    "listings_df2['price'] = listings_df2['price'].str.replace('$', '').str.replace(',', '').astype(float)\n",
    "\n",
    "# Handle missing values if any\n",
    "listings_df2['accommodates'].fillna(listings_df2['accommodates'].mean(), inplace=True)\n",
    "listings_df2['bedrooms'].fillna(listings_df2['bedrooms'].mean(), inplace=True)\n",
    "listings_df2['bathrooms'].fillna(listings_df2['bathrooms'].mean(), inplace=True)\n",
    "listings_df2['price'].fillna(listings_df2['price'].mean(), inplace=True)"
   ]
  },
  {
   "cell_type": "markdown",
   "id": "e6d08cb9-6688-49b2-b2d3-3d27196a1733",
   "metadata": {},
   "source": [
    "## Modeling\n",
    "\n",
    "In the modeling phase,we willIselect thed relevant features and target variable, then split the data into training and testing sets before standardizing the features and training a logistic regression model to make predictions on the test set."
   ]
  },
  {
   "cell_type": "code",
   "execution_count": 23,
   "id": "bb99d86d-6f34-4cd1-844e-63c8f7fabe18",
   "metadata": {},
   "outputs": [],
   "source": [
    "# Select relevant features and target variable\n",
    "selected_features = ['accommodates', 'bedrooms', 'bathrooms', 'price']  # Add more features as needed\n",
    "X = listings_df2[selected_features]\n",
    "y = listings_df2['review_scores_rating'] >= 90  # Assuming positive review if review score is >= 90\n",
    "\n",
    "\n",
    "# Split the data into training and testing sets\n",
    "X_train, X_test, y_train, y_test = train_test_split(X, y, test_size=0.2, random_state=42)\n",
    "\n",
    "# Standardize features by removing the mean and scaling to unit variance\n",
    "scaler = StandardScaler()\n",
    "X_train_scaled = scaler.fit_transform(X_train)\n",
    "X_test_scaled = scaler.transform(X_test)\n",
    "\n",
    "# Initialize the logistic regression model\n",
    "model = LogisticRegression()\n",
    "\n",
    "# Train the model\n",
    "model.fit(X_train_scaled, y_train)\n",
    "\n",
    "# Predictions on the test set\n",
    "y_pred = model.predict(X_test_scaled)"
   ]
  },
  {
   "cell_type": "markdown",
   "id": "fcb7e8ce-9c50-4b7c-b52c-9d5e4e40ed1f",
   "metadata": {},
   "source": [
    "## Evaluation\n",
    "\r\n",
    "In the evaluation phase, I assessed the model's performance by calculating its accuracy score and generating a classification report to examine precision, recall, and F1-score metrics for predicting positive reviews based on the selected features."
   ]
  },
  {
   "cell_type": "code",
   "execution_count": 24,
   "id": "9c34a779-12d0-472d-a738-0b58ce239f39",
   "metadata": {},
   "outputs": [
    {
     "name": "stdout",
     "output_type": "stream",
     "text": [
      "Accuracy: 0.7460732984293194\n"
     ]
    }
   ],
   "source": [
    "# Model evaluation\n",
    "accuracy = accuracy_score(y_test, y_pred)\n",
    "print(f'Accuracy: {accuracy}')"
   ]
  },
  {
   "cell_type": "code",
   "execution_count": 25,
   "id": "468f1345-b9af-4033-8605-498fe547ef8e",
   "metadata": {},
   "outputs": [
    {
     "name": "stdout",
     "output_type": "stream",
     "text": [
      "              precision    recall  f1-score   support\n",
      "\n",
      "       False       0.00      0.00      0.00       194\n",
      "        True       0.75      1.00      0.85       570\n",
      "\n",
      "    accuracy                           0.75       764\n",
      "   macro avg       0.37      0.50      0.43       764\n",
      "weighted avg       0.56      0.75      0.64       764\n",
      "\n"
     ]
    }
   ],
   "source": [
    "# Classification report\n",
    "print(classification_report(y_test, y_pred))"
   ]
  },
  {
   "cell_type": "code",
   "execution_count": 26,
   "id": "26d8ced0-d68d-4763-92d7-e812632aa3f0",
   "metadata": {},
   "outputs": [
    {
     "data": {
      "image/png": "[encoded data removed]",
      "text/plain": [
       "<Figure size 640x480 with 1 Axes>"
      ]
     },
     "metadata": {},
     "output_type": "display_data"
    }
   ],
   "source": [
    "# Feature importance\n",
    "if hasattr(model, 'coef_'):\n",
    "    feature_importance = pd.DataFrame({'Feature': selected_features, 'Importance': model.coef_[0]})\n",
    "    feature_importance = feature_importance.sort_values(by='Importance', ascending=False)\n",
    "\n",
    "    # Plot feature importance\n",
    "    plot_data(feature_importance, 'Importance', 'Feature', 'Feature Importance', plot_type='bar',  palette='viridis')\n"
   ]
  },
  {
   "cell_type": "markdown",
   "id": "4782486f-d750-4d4f-a3c9-94e0c28be2a5",
   "metadata": {},
   "source": [
    "**Figure above shows that that while attributes like Accommodate and Bathrooms contribute positively to the likelihood of positive reviews, attributes like Bedrooms and Price may have a negative impact"
   ]
  },
  {
   "cell_type": "code",
   "execution_count": null,
   "id": "3c18895c-8c23-4098-a7ce-6d8c83a96615",
   "metadata": {},
   "outputs": [],
   "source": []
  },
  {
   "cell_type": "code",
   "execution_count": null,
   "id": "44ec35bd-4a50-40aa-ba62-6b66cbaccf0f",
   "metadata": {},
   "outputs": [],
   "source": []
  }
 ],
 "metadata": {
  "kernelspec": {
   "display_name": "Python 3 (ipykernel)",
   "language": "python",
   "name": "python3"
  },
  "language_info": {
   "codemirror_mode": {
    "name": "ipython",
    "version": 3
   },
   "file_extension": ".py",
   "mimetype": "text/x-python",
   "name": "python",
   "nbconvert_exporter": "python",
   "pygments_lexer": "ipython3",
   "version": "3.11.7"
  }
 },
 "nbformat": 4,
 "nbformat_minor": 5
}
